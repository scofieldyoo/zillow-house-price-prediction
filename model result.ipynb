{
 "cells": [
  {
   "cell_type": "code",
   "execution_count": null,
   "metadata": {
    "collapsed": true
   },
   "outputs": [],
   "source": [
    "# model1 (0.06538)\n",
    "#0. all 0 (0.0663010)\n",
    "#1. filter float features 0.6578 \n",
    "# num_round: 40->300->500 (0.06538->0.0657->0.0676)\n",
    "#2. delete the features which miss rate over 0.7 (0.0669117)\n",
    "# miss rate over 0.7 -> 0.9 (0.0654)\n",
    "# id -> one hot encoding (True/False)\n",
    "#3. fill Nan 0.0710(mean) 0.074(median)\n",
    "#4. ask why? ask questions\n",
    "\n",
    "# model1s (0.0651483)\n",
    "#5. get_dummies - id features\n",
    "#6. discretization \n",
    "\n",
    "# model2 (0.0645207)\n",
    "# 去掉object,纯float特征: 0.06466\n",
    "# 8. 满足一定条件的，直接置为0 (bad)\n",
    "# 加特征\n",
    "# 统计\n",
    "# 分析误差较大的sample，人为调整logerror\n",
    "\n",
    "# model3 (LR)\n",
    "# ridge(15) - 0.0649499\n",
    "# BaggingRegressor (0.06491)\n",
    "# xgb Regressor 0.0647316 -> 0.0646625 (param optimization)\n",
    "\n",
    "# model4(model ensemble)\n",
    "#lightgbm (0.0648999)\n",
    "\n",
    "# model5 (NN)\n",
    "# first 0.0779072->0.0652739->0.0657341(no objective)"
   ]
  },
  {
   "cell_type": "code",
   "execution_count": null,
   "metadata": {},
   "outputs": [],
   "source": [
    ""
   ]
  },
  {
   "cell_type": "code",
   "execution_count": null,
   "metadata": {},
   "outputs": [],
   "source": [
    "# TODO\n",
    "#confusion_matrix\n",
    "#pipeline 看怎么用一下\n",
    "# analyze the data with high bias\n",
    "# 提出问题 建立假设 尝试解决问题\n",
    "# 把交易的时间因素考虑进去\n",
    "# 加统计特征：每个月平均logerror，每天的mean logerror,前10重要性特征mean logerror\n",
    "# 对重点列异常值进行剔除，code as follows"
   ]
  },
  {
   "cell_type": "code",
   "execution_count": null,
   "metadata": {},
   "outputs": [],
   "source": [
    "cols = [\"bathroomcnt\",\"bedroomcnt\",\"roomcnt\",\"numberofstories\",\"logerror\",\"calculatedfinishedsquarefeet\"]\n",
    "mergedFiltered = merged[cols].dropna()\n",
    "for col in cols:\n",
    "    ulimit = np.percentile(mergedFiltered[col].values, 99.5)\n",
    "    llimit = np.percentile(mergedFiltered[col].values, 0.5)\n",
    "    mergedFiltered[col].ix[mergedFiltered[col]>ulimit] = ulimit\n",
    "    mergedFiltered[col].ix[mergedFiltered[col]<llimit] = llimit"
   ]
  },
  {
   "cell_type": "code",
   "execution_count": null,
   "metadata": {},
   "outputs": [],
   "source": [
    "# done\n",
    "#线上线下一致性"
   ]
  }
 ],
 "metadata": {
  "kernelspec": {
   "display_name": "Python 2",
   "language": "python",
   "name": "python2"
  },
  "language_info": {
   "codemirror_mode": {
    "name": "ipython",
    "version": 2.0
   },
   "file_extension": ".py",
   "mimetype": "text/x-python",
   "name": "python",
   "nbconvert_exporter": "python",
   "pygments_lexer": "ipython2",
   "version": "2.7.6"
  }
 },
 "nbformat": 4,
 "nbformat_minor": 0
}